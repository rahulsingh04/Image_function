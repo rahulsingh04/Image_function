{
 "cells": [
  {
   "cell_type": "code",
   "execution_count": 11,
   "id": "8269d794-509a-485b-99de-f06e31a93ca7",
   "metadata": {
    "tags": []
   },
   "outputs": [],
   "source": [
    "import numpy as np\n",
    "import cv2"
   ]
  },
  {
   "cell_type": "code",
   "execution_count": 1,
   "id": "80520adb-1f70-42de-93e9-1d232bf14dc5",
   "metadata": {
    "tags": []
   },
   "outputs": [],
   "source": [
    "### CONVERTING AN PDF TO AN IMAGE FORMAT :->"
   ]
  },
  {
   "cell_type": "code",
   "execution_count": 3,
   "id": "8e3f95b5-16b4-49c6-a3bb-c60fb812db16",
   "metadata": {
    "tags": []
   },
   "outputs": [],
   "source": [
    "import pdf2image\n",
    "\n",
    "# Define the input and output file paths\n",
    "input_path = '/home/nverma/BAGIC/OC-23-1002-8433-00002933 Discharge.pdf'\n",
    "#### give name of the images :->\n",
    "output_path = 'first_image.png'\n",
    "\n",
    "# Convert the PDF to a PNG image\n",
    "image_list = pdf2image.convert_from_path(input_path)\n",
    "\n",
    "# Save the first page of the PDF as a PNG image\n",
    "first_page = image_list[0]\n",
    "save_path = \"/home/rsingh/fraud_waste_analysis/FWA_IMAGE/images/\"\n",
    "first_page.save(save_path+output_path, 'PNG')"
   ]
  },
  {
   "cell_type": "code",
   "execution_count": null,
   "id": "2aa596ca-16b3-4fe5-b1cc-3c94d5b8071d",
   "metadata": {},
   "outputs": [],
   "source": []
  },
  {
   "cell_type": "code",
   "execution_count": null,
   "id": "6a8fa409-402e-482b-af77-2de7aadeece9",
   "metadata": {
    "tags": []
   },
   "outputs": [
    {
     "data": {
      "image/png": "[encoded data removed]",
      "text/plain": [
       "<Figure size 432x288 with 1 Axes>"
      ]
     },
     "metadata": {
      "needs_background": "light"
     },
     "output_type": "display_data"
    }
   ],
   "source": [
    "import matplotlib.pyplot as plt\n",
    "# Display the PNG image using pyplot.show()\n",
    "save_path = \"/home/rsingh/fraud_waste_analysis/FWA_IMAGE/images/\"\n",
    "\n",
    "image = plt.imread(save_path+\"first_image.png\")\n",
    "plt.imshow(img)\n",
    "plt.show()"
   ]
  },
  {
   "cell_type": "code",
   "execution_count": null,
   "id": "133dc1cb-f907-4080-91a3-00a9e9e1f0ce",
   "metadata": {},
   "outputs": [],
   "source": []
  },
  {
   "cell_type": "code",
   "execution_count": 1,
   "id": "4ca2b2d6-81cf-4408-aeb1-bef5d5a6471d",
   "metadata": {},
   "outputs": [],
   "source": [
    "from PIL import Image\n",
    "import shutil\n",
    "\n",
    "def imShow(path):\n",
    "    image = cv2.imread(path)\n",
    "    height, width = image.shape[:2]\n",
    "    resized_image = cv2.resize(image, (3*width, 3*height), interpolation=cv2.INTER_CUBIC)\n",
    "\n",
    "    fig = plt.gcf()\n",
    "    fig.set_size_inches(18, 10)\n",
    "    plt.axis(\"off\")\n",
    "    plt.imshow(cv2.cvtColor(resized_image, cv2.COLOR_BGR2RGB))\n",
    "    plt.show()\n",
    "\n",
    "    \n",
    "import os\n",
    "import random\n",
    "from PIL import Image\n",
    "import matplotlib.pyplot as plt\n",
    "\n",
    "def plot_random_images(dir_path, num_images, folder_name):\n",
    "    # Get a list of all the image file names in the directory\n",
    "    image_files = [f for f in os.listdir(dir_path) if f.endswith('.jpg') or f.endswith('.png')]\n",
    "\n",
    "    # Shuffle the list of image file names\n",
    "    random.shuffle(image_files)\n",
    "\n",
    "    # Get the first num_images from the shuffled list\n",
    "    image_files = image_files[:num_images]\n",
    "\n",
    "    # Calculate the number of rows and columns for the plot\n",
    "    num_rows = (num_images + 3) // 4\n",
    "    num_cols = min(num_images, 4)\n",
    "\n",
    "    # Create a figure to plot the images\n",
    "    fig = plt.figure(figsize=(10, 10*num_rows/num_cols))\n",
    "\n",
    "    # Loop through the selected images and plot each one\n",
    "    for i in range(num_images):\n",
    "        # Open the image file\n",
    "        img_path = os.path.join(dir_path, image_files[i])\n",
    "        img = Image.open(img_path)\n",
    "\n",
    "        # Add a subplot to the figure and plot the image\n",
    "        ax = fig.add_subplot(num_rows, num_cols, i+1)\n",
    "        ax.imshow(img,cmap=\"gray\")\n",
    "\n",
    "        # Remove the axis labels\n",
    "        ax.set_xticks([])\n",
    "        ax.set_yticks([])\n",
    "\n",
    "    # Set the title of the plot to the folder name\n",
    "    plt.suptitle(folder_name, fontsize=16)\n",
    "\n",
    "    # Adjust the spacing between the subplots\n",
    "    plt.subplots_adjust(wspace=0.05, hspace=0.05)\n",
    "\n",
    "    # Show the plot\n",
    "    plt.show()"
   ]
  },
  {
   "cell_type": "code",
   "execution_count": null,
   "id": "0fa2daed-c22d-4a9f-86b4-2b9fe65a9118",
   "metadata": {},
   "outputs": [],
   "source": []
  }
 ],
 "metadata": {
  "kernelspec": {
   "display_name": "new_environment",
   "language": "python",
   "name": "new_environment"
  },
  "language_info": {
   "codemirror_mode": {
    "name": "ipython",
    "version": 3
   },
   "file_extension": ".py",
   "mimetype": "text/x-python",
   "name": "python",
   "nbconvert_exporter": "python",
   "pygments_lexer": "ipython3",
   "version": "3.8.10"
  }
 },
 "nbformat": 4,
 "nbformat_minor": 5
}
