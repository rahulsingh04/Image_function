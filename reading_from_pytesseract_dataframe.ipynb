{
 "cells": [
  {
   "cell_type": "code",
   "execution_count": 2,
   "id": "6135dfcd-dd7c-4fb9-9a77-8c5794efe241",
   "metadata": {
    "tags": []
   },
   "outputs": [
    {
     "name": "stderr",
     "output_type": "stream",
     "text": [
      "[nltk_data] Downloading package stopwords to /home/rsingh/nltk_data...\n",
      "[nltk_data]   Package stopwords is already up-to-date!\n",
      "[nltk_data] Downloading package wordnet to /home/rsingh/nltk_data...\n",
      "[nltk_data]   Package wordnet is already up-to-date!\n"
     ]
    }
   ],
   "source": [
    "import pandas as pd\n",
    "import numpy as np\n",
    "import seaborn as sns\n",
    "import matplotlib.pyplot as plt\n",
    "import cv2\n",
    "import matplotlib.pyplot as plt\n",
    "import pandas as pd\n",
    "import numpy as np\n",
    "import warnings\n",
    "warnings.filterwarnings(\"ignore\")\n",
    "import pandas as pd\n",
    "import os\n",
    "import numpy as np\n",
    "import glob\n",
    "import pytesseract\n",
    "import cv2\n",
    "import tensorflow as tf\n",
    "from tensorflow.keras.models import Sequential\n",
    "from tensorflow.keras.layers import Conv2D, MaxPooling2D, Dropout, Flatten, Dense\n",
    "from tensorflow.keras.optimizers import Adam\n",
    "from tensorflow.keras.preprocessing.image import ImageDataGenerator\n",
    "import numpy as np\n",
    "import warnings\n",
    "warnings.filterwarnings('ignore')\n",
    "import matplotlib.pyplot as plt\n",
    "import nltk\n",
    "from nltk.corpus import stopwords\n",
    "from nltk.stem import PorterStemmer\n",
    "# nltk.download('words')\n",
    "nltk.download('stopwords')\n",
    "nltk.download('wordnet')\n",
    "from nltk.stem import WordNetLemmatizer\n",
    "  \n",
    "lm = WordNetLemmatizer()\n",
    "# words = set(nltk.corpus.words.words())\n",
    "sw = set(stopwords.words('english'))\n",
    "from sklearn.feature_extraction.text import TfidfVectorizer, CountVectorizer\n",
    "from sklearn.model_selection import train_test_split\n",
    "from sklearn.metrics import classification_report\n",
    "from sklearn.ensemble import RandomForestClassifier\n",
    "# from tensorflow.keras.applications.vgg16 import VGG16\n",
    "# from tensorflow.keras.applications.vgg16 import preprocess_input\n",
    "from tensorflow.keras.applications.vgg19 import VGG19\n",
    "from tensorflow.keras.applications.vgg19 import preprocess_input\n",
    "from tensorflow.keras import layers, models\n",
    "from tensorflow.keras.callbacks import EarlyStopping\n",
    "import re\n",
    "from sklearn.metrics import confusion_matrix, accuracy_score\n",
    "import os\n",
    "os.environ[\"CUDA_VISIBLE_DEVICES\"] = \"1\"\n",
    "\n",
    "def imShow(path):\n",
    "    image = cv2.imread(path)\n",
    "    height, width = image.shape[:2]\n",
    "    resized_image = cv2.resize(image, (3*width, 3*height), interpolation=cv2.INTER_CUBIC)\n",
    "\n",
    "    fig = plt.gcf()\n",
    "    fig.set_size_inches(18, 10)\n",
    "    plt.axis(\"off\")\n",
    "    plt.imshow(cv2.cvtColor(resized_image, cv2.COLOR_BGR2RGB))\n",
    "    plt.show()"
   ]
  },
  {
   "cell_type": "code",
   "execution_count": null,
   "id": "03242c7e-af01-4c38-8519-b2178c49c45c",
   "metadata": {
    "tags": []
   },
   "outputs": [],
   "source": [
    "data = pd.read_csv(\"/home/agiri/new/Invoice_discharge_data.csv\")\n",
    "df = data['choice image'.split()].drop_duplicates().dropna().reset_index(drop = True)\n",
    "df.columns = ['labels', 'Image_Path']\n",
    "df = df['Image_Path labels'.split()]"
   ]
  },
  {
   "cell_type": "code",
   "execution_count": null,
   "id": "a7ab34ed-0bab-41a0-870d-38ad30706d14",
   "metadata": {
    "tags": []
   },
   "outputs": [],
   "source": [
    "import shutil\n",
    "import os\n",
    "pd.options.display.max_colwidth = 500"
   ]
  },
  {
   "cell_type": "code",
   "execution_count": null,
   "id": "257f7f9e-9e3d-40d1-8aab-27e3cf4b1916",
   "metadata": {
    "tags": []
   },
   "outputs": [],
   "source": [
    "df.head(1)"
   ]
  },
  {
   "cell_type": "code",
   "execution_count": null,
   "id": "8b75d6b6-1dec-4fa3-8abb-eafa604ef3d5",
   "metadata": {
    "tags": []
   },
   "outputs": [],
   "source": [
    "path = \"/home/dkuwarbi/docI/images_forged/\"\n",
    "df['Image_Path'] =  df['Image_Path'].apply(lambda x: path+x.split(\"/\")[-1])"
   ]
  },
  {
   "cell_type": "code",
   "execution_count": null,
   "id": "803e8901-a5ce-42bb-8ff3-032afec5b6f6",
   "metadata": {
    "tags": []
   },
   "outputs": [],
   "source": [
    "df.head(2)"
   ]
  },
  {
   "cell_type": "code",
   "execution_count": null,
   "id": "fa8cfb4c-7b78-40c0-b0bb-d2daabba016a",
   "metadata": {
    "tags": []
   },
   "outputs": [],
   "source": [
    "imShow(\"/home/dkuwarbi/docI/images_forged/210000083PFee- Invoice - 2388_0.jpg\")"
   ]
  },
  {
   "cell_type": "code",
   "execution_count": null,
   "id": "8c5c3e30-6c5e-4924-91a7-3b01b97625dd",
   "metadata": {
    "tags": []
   },
   "outputs": [],
   "source": [
    "import pytesseract as pt\n",
    "# os.environ[\"CUDA_VISIBLE_DEVICES\"] = \"1\"\n",
    "os.environ[\"CUDA_VISIBLE_DEVICES\"] = \"1\""
   ]
  },
  {
   "cell_type": "code",
   "execution_count": null,
   "id": "87640617-3b7a-48f7-ab77-bab15ffbb642",
   "metadata": {},
   "outputs": [],
   "source": []
  },
  {
   "cell_type": "code",
   "execution_count": null,
   "id": "1d11aca3-8736-435a-9c42-863eb83f8a80",
   "metadata": {
    "tags": []
   },
   "outputs": [],
   "source": [
    "def clean(text):\n",
    "    # strip leading and trailing whitespace\n",
    "    text = text.strip()\n",
    "    \n",
    "    \n",
    "    return text\n",
    "\n"
   ]
  },
  {
   "cell_type": "code",
   "execution_count": null,
   "id": "d9ff865d-d32f-4c92-a340-7943dab1651a",
   "metadata": {
    "tags": []
   },
   "outputs": [],
   "source": [
    "from tqdm import tqdm \n",
    "tqdm.pandas()"
   ]
  },
  {
   "cell_type": "code",
   "execution_count": null,
   "id": "e838a05a-8f9b-41da-b8b4-7be4904c2b21",
   "metadata": {
    "tags": []
   },
   "outputs": [],
   "source": [
    "for i in tqdm(range(df.shape[0])):\n",
    "    # extract text from image\n",
    "    text = pt.image_to_string(df.loc[i, \"Image_Path\"])\n",
    "    \n",
    "    # clean the extracted text\n",
    "    text = clean(text)\n",
    "    \n",
    "    # assign cleaned text to DataFrame\n",
    "    df.loc[i, \"text\"] = text"
   ]
  },
  {
   "cell_type": "code",
   "execution_count": null,
   "id": "cfe8fcfb-a11c-40e1-8fff-eb1cd3642c48",
   "metadata": {
    "tags": []
   },
   "outputs": [],
   "source": [
    "df.head(2)"
   ]
  },
  {
   "cell_type": "code",
   "execution_count": null,
   "id": "7e9a26cc-ff9a-4145-bad4-34c8ac041ee1",
   "metadata": {
    "tags": []
   },
   "outputs": [],
   "source": [
    "df.text = df['text'].progress_apply(lambda x:  x.replace(\"\\n\", \"\"))"
   ]
  },
  {
   "cell_type": "code",
   "execution_count": null,
   "id": "7d679ab6-a339-41b4-b8b2-bb18b40dc525",
   "metadata": {
    "tags": []
   },
   "outputs": [],
   "source": [
    "pd.options.display.max_colwidth = 50\n",
    "df.head(2)"
   ]
  },
  {
   "cell_type": "code",
   "execution_count": 30,
   "id": "7cd20a3e-044e-4628-a344-4e2fa609f4b9",
   "metadata": {
    "tags": []
   },
   "outputs": [],
   "source": [
    "# df.to_csv(\"tesseract.csv\")\n",
    "df = pd.read_csv('tesseract.csv')"
   ]
  },
  {
   "cell_type": "code",
   "execution_count": 32,
   "id": "11e19ac2-5fbe-4ff7-b6c1-7621346aae00",
   "metadata": {
    "tags": []
   },
   "outputs": [],
   "source": [
    "df = df.dropna()"
   ]
  },
  {
   "cell_type": "code",
   "execution_count": null,
   "id": "e1373960-c6b3-494a-9320-706c8731d7ad",
   "metadata": {},
   "outputs": [],
   "source": []
  },
  {
   "cell_type": "code",
   "execution_count": 33,
   "id": "497c6727-4fc5-40f1-97ec-36fed3e918b5",
   "metadata": {
    "tags": []
   },
   "outputs": [
    {
     "data": {
      "text/plain": [
       "Discharge_Summary    190\n",
       "Invoice              188\n",
       "Name: labels, dtype: int64"
      ]
     },
     "execution_count": 33,
     "metadata": {},
     "output_type": "execute_result"
    }
   ],
   "source": [
    "df['labels'].value_counts()"
   ]
  },
  {
   "cell_type": "code",
   "execution_count": 34,
   "id": "6756406d-9b9b-47e4-b46e-8de9891d8ed3",
   "metadata": {
    "tags": []
   },
   "outputs": [
    {
     "data": {
      "text/plain": [
       "0"
      ]
     },
     "execution_count": 34,
     "metadata": {},
     "output_type": "execute_result"
    }
   ],
   "source": [
    "df['text'].isna().sum()"
   ]
  },
  {
   "cell_type": "code",
   "execution_count": 35,
   "id": "c355868c-fd97-44f4-aaab-9ae84b90713e",
   "metadata": {
    "tags": []
   },
   "outputs": [],
   "source": [
    "from sklearn.model_selection import train_test_split\n",
    "train_df, test_df = train_test_split(df, test_size=0.1, random_state=42, stratify=df['labels'])"
   ]
  },
  {
   "cell_type": "code",
   "execution_count": 36,
   "id": "3ce162f9-afa6-48f0-a5ec-c82e18d51177",
   "metadata": {
    "tags": []
   },
   "outputs": [],
   "source": [
    "train_df, eval_df = train_test_split(train_df, test_size=0.2, random_state=42, stratify=train_df['labels'])"
   ]
  },
  {
   "cell_type": "code",
   "execution_count": 37,
   "id": "61a5adb4-6836-47d2-b129-44a3a72b3a65",
   "metadata": {
    "tags": []
   },
   "outputs": [
    {
     "data": {
      "text/plain": [
       "((378, 4), (272, 4), (68, 4), (38, 4))"
      ]
     },
     "execution_count": 37,
     "metadata": {},
     "output_type": "execute_result"
    }
   ],
   "source": [
    "df.shape, train_df.shape, eval_df.shape, test_df.shape"
   ]
  },
  {
   "cell_type": "code",
   "execution_count": 38,
   "id": "6635f98c-95ba-4533-83cb-74eaf7fe7959",
   "metadata": {
    "tags": []
   },
   "outputs": [
    {
     "data": {
      "text/plain": [
       "Discharge_Summary    137\n",
       "Invoice              135\n",
       "Name: labels, dtype: int64"
      ]
     },
     "execution_count": 38,
     "metadata": {},
     "output_type": "execute_result"
    }
   ],
   "source": [
    "train_df['labels'].value_counts()"
   ]
  },
  {
   "cell_type": "code",
   "execution_count": 39,
   "id": "07787fdb-1be0-49ea-b802-1609e9447c0a",
   "metadata": {
    "tags": []
   },
   "outputs": [
    {
     "data": {
      "text/plain": [
       "Invoice              19\n",
       "Discharge_Summary    19\n",
       "Name: labels, dtype: int64"
      ]
     },
     "execution_count": 39,
     "metadata": {},
     "output_type": "execute_result"
    }
   ],
   "source": [
    "test_df['labels'].value_counts()"
   ]
  },
  {
   "cell_type": "code",
   "execution_count": 40,
   "id": "ced3fa0b-0205-49ab-9acd-ae420e427006",
   "metadata": {
    "tags": []
   },
   "outputs": [
    {
     "name": "stdout",
     "output_type": "stream",
     "text": [
      "Total numbers of labels: 2\n",
      "Label Names: ['Invoice' 'Discharge_Summary']\n"
     ]
    }
   ],
   "source": [
    "labels = df.labels.unique()\n",
    "print(f\"Total numbers of labels: {len(labels)}\")\n",
    "print(f\"Label Names: {labels}\")"
   ]
  },
  {
   "cell_type": "code",
   "execution_count": 41,
   "id": "343b7080-3110-4115-936a-00a1c08e3418",
   "metadata": {
    "tags": []
   },
   "outputs": [
    {
     "data": {
      "text/plain": [
       "{'Invoice': 0, 'Discharge_Summary': 1}"
      ]
     },
     "execution_count": 41,
     "metadata": {},
     "output_type": "execute_result"
    }
   ],
   "source": [
    "label2idx = {label:i for i, label in enumerate(labels)}\n",
    "label2idx"
   ]
  },
  {
   "cell_type": "code",
   "execution_count": 42,
   "id": "8781d31c-c5e8-4910-ab8a-19704a10c659",
   "metadata": {
    "tags": []
   },
   "outputs": [
    {
     "name": "stderr",
     "output_type": "stream",
     "text": [
      "100%|██████████| 272/272 [00:00<00:00, 284359.59it/s]\n",
      "100%|██████████| 68/68 [00:00<00:00, 85138.11it/s]\n",
      "100%|██████████| 38/38 [00:00<00:00, 30146.31it/s]\n"
     ]
    }
   ],
   "source": [
    "from tqdm import tqdm \n",
    "tqdm.pandas()\n",
    "train_df[\"labels\"] = train_df[\"labels\"].progress_apply(lambda x: label2idx.get(x))\n",
    "eval_df[\"labels\"] = eval_df[\"labels\"].progress_apply(lambda x: label2idx.get(x))\n",
    "test_df[\"labels\"] = test_df[\"labels\"].progress_apply(lambda x: label2idx.get(x))"
   ]
  },
  {
   "cell_type": "code",
   "execution_count": 43,
   "id": "f97debe9-8f8d-41f4-938b-8f371e2943e9",
   "metadata": {
    "tags": []
   },
   "outputs": [
    {
     "data": {
      "text/plain": [
       "Unnamed: 0    0\n",
       "Image_Path    0\n",
       "labels        0\n",
       "text          0\n",
       "dtype: int64"
      ]
     },
     "execution_count": 43,
     "metadata": {},
     "output_type": "execute_result"
    }
   ],
   "source": [
    "df.isna().sum()"
   ]
  },
  {
   "cell_type": "code",
   "execution_count": 44,
   "id": "e4cd4670-bfb8-49dd-a823-32adedc91b6d",
   "metadata": {
    "tags": []
   },
   "outputs": [
    {
     "data": {
      "text/html": [
       "<div>\n",
       "<style scoped>\n",
       "    .dataframe tbody tr th:only-of-type {\n",
       "        vertical-align: middle;\n",
       "    }\n",
       "\n",
       "    .dataframe tbody tr th {\n",
       "        vertical-align: top;\n",
       "    }\n",
       "\n",
       "    .dataframe thead th {\n",
       "        text-align: right;\n",
       "    }\n",
       "</style>\n",
       "<table border=\"1\" class=\"dataframe\">\n",
       "  <thead>\n",
       "    <tr style=\"text-align: right;\">\n",
       "      <th></th>\n",
       "      <th>Unnamed: 0</th>\n",
       "      <th>Image_Path</th>\n",
       "      <th>labels</th>\n",
       "      <th>text</th>\n",
       "    </tr>\n",
       "  </thead>\n",
       "  <tbody>\n",
       "    <tr>\n",
       "      <th>0</th>\n",
       "      <td>0</td>\n",
       "      <td>/home/dkuwarbi/docI/images_forged/210000083PFe...</td>\n",
       "      <td>0</td>\n",
       "      <td>C MacCoy Consultancy ies es: Krishna Nagar,Ser...</td>\n",
       "    </tr>\n",
       "    <tr>\n",
       "      <th>70</th>\n",
       "      <td>70</td>\n",
       "      <td>/home/dkuwarbi/docI/images_forged/210014237P f...</td>\n",
       "      <td>0</td>\n",
       "      <td>HN +1$O 9001:2008 CERTIFIED COMPANY(Establish ...</td>\n",
       "    </tr>\n",
       "    <tr>\n",
       "      <th>259</th>\n",
       "      <td>259</td>\n",
       "      <td>/home/dkuwarbi/docI/images_forged/OC-22-1002-6...</td>\n",
       "      <td>0</td>\n",
       "      <td>—~BOMBAY HOSPITAL&amp; iMEDICAL RESEARCH CENTRE 42...</td>\n",
       "    </tr>\n",
       "    <tr>\n",
       "      <th>198</th>\n",
       "      <td>198</td>\n",
       "      <td>/home/dkuwarbi/docI/images_forged/OC-22-1002-6...</td>\n",
       "      <td>1</td>\n",
       "      <td>J col: UOISSIWPe JO aw} ay} Je UOHBUIWeXa \"|je...</td>\n",
       "    </tr>\n",
       "    <tr>\n",
       "      <th>241</th>\n",
       "      <td>241</td>\n",
       "      <td>/home/dkuwarbi/docI/images_forged/OC-22-1002-6...</td>\n",
       "      <td>0</td>\n",
       "      <td>+1 BESOEEsesusk3eupipay“1880¥ZSPINS AT= ~~sofi...</td>\n",
       "    </tr>\n",
       "  </tbody>\n",
       "</table>\n",
       "</div>"
      ],
      "text/plain": [
       "     Unnamed: 0                                         Image_Path  labels  \\\n",
       "0             0  /home/dkuwarbi/docI/images_forged/210000083PFe...       0   \n",
       "70           70  /home/dkuwarbi/docI/images_forged/210014237P f...       0   \n",
       "259         259  /home/dkuwarbi/docI/images_forged/OC-22-1002-6...       0   \n",
       "198         198  /home/dkuwarbi/docI/images_forged/OC-22-1002-6...       1   \n",
       "241         241  /home/dkuwarbi/docI/images_forged/OC-22-1002-6...       0   \n",
       "\n",
       "                                                  text  \n",
       "0    C MacCoy Consultancy ies es: Krishna Nagar,Ser...  \n",
       "70   HN +1$O 9001:2008 CERTIFIED COMPANY(Establish ...  \n",
       "259  —~BOMBAY HOSPITAL& iMEDICAL RESEARCH CENTRE 42...  \n",
       "198  J col: UOISSIWPe JO aw} ay} Je UOHBUIWeXa \"|je...  \n",
       "241  +1 BESOEEsesusk3eupipay“1880¥ZSPINS AT= ~~sofi...  "
      ]
     },
     "execution_count": 44,
     "metadata": {},
     "output_type": "execute_result"
    }
   ],
   "source": [
    "train_df.head()"
   ]
  },
  {
   "cell_type": "markdown",
   "id": "3e028fe9-6b42-43b9-838c-0b38970f4826",
   "metadata": {},
   "source": [
    "# Backbones"
   ]
  },
  {
   "cell_type": "code",
   "execution_count": 45,
   "id": "5b983838-97fe-4626-a279-8c2fa9e20958",
   "metadata": {
    "tags": []
   },
   "outputs": [],
   "source": [
    "from sentence_transformers import SentenceTransformer, util, models, losses, datasets\n",
    "from transformers import AutoTokenizer, AutoFeatureExtractor, AutoModel\n",
    "import torchvision.transforms as T\n",
    "import torch\n",
    "device = \"cuda:0\" if torch.cuda.is_available() else \"cpu\""
   ]
  },
  {
   "cell_type": "code",
   "execution_count": 46,
   "id": "287f62b9-9c01-460e-a877-fd9dc7fbfcc1",
   "metadata": {
    "tags": []
   },
   "outputs": [],
   "source": [
    "os.environ[\"CUDA_VISIBLE_DEVICES\"] = \"0\""
   ]
  },
  {
   "cell_type": "code",
   "execution_count": 47,
   "id": "adf2b07b-e9ac-4a86-8915-a110a8704a9b",
   "metadata": {
    "tags": []
   },
   "outputs": [],
   "source": [
    "word_embedding_model = models.Transformer('sentence-transformers/all-mpnet-base-v2', max_seq_length=512)\n",
    "pooling_model = models.Pooling(word_embedding_model.get_word_embedding_dimension(), 'cls')\n",
    "text_encoder = SentenceTransformer(modules=[word_embedding_model, pooling_model])\n",
    "\n",
    "for p in text_encoder.parameters():\n",
    "    p.requires_grad = False"
   ]
  },
  {
   "cell_type": "code",
   "execution_count": 86,
   "id": "8dcbec26-7881-4d3c-8e7c-59e586864d2a",
   "metadata": {
    "tags": []
   },
   "outputs": [],
   "source": [
    "text_encoder.save(text_encoder)"
   ]
  },
  {
   "cell_type": "code",
   "execution_count": 48,
   "id": "59e2c0bb-f32c-4f0d-8b81-e0252d14e06e",
   "metadata": {
    "tags": []
   },
   "outputs": [
    {
     "name": "stderr",
     "output_type": "stream",
     "text": [
      "`text_config_dict` is provided which will be used to initialize `CLIPTextConfig`. The value `text_config[\"id2label\"]` will be overriden.\n"
     ]
    }
   ],
   "source": [
    "image_encoder = SentenceTransformer(\"sentence-transformers/clip-ViT-L-14\", device=device)\n",
    "\n",
    "for p in image_encoder.parameters():\n",
    "    p.requires_grad = False"
   ]
  },
  {
   "cell_type": "code",
   "execution_count": 49,
   "id": "3e3c5bf5-1296-4c13-8bd6-9374db129e1e",
   "metadata": {
    "tags": []
   },
   "outputs": [],
   "source": [
    "from PIL import Image\n",
    "from torch import nn\n",
    "from torch.utils.data import DataLoader, Dataset, RandomSampler, SequentialSampler"
   ]
  },
  {
   "cell_type": "code",
   "execution_count": 50,
   "id": "b71f864d-c9d2-4f09-8f9b-5f1e107d9108",
   "metadata": {
    "tags": []
   },
   "outputs": [],
   "source": [
    "class EasyVQADataset(Dataset):\n",
    "    def __init__(self, df, image_encoder, text_encoder):\n",
    "        \n",
    "        self.df = df\n",
    "        self.image_encoder = image_encoder\n",
    "        self.text_encoder = text_encoder\n",
    "        # self.image_processor = image_processor\n",
    "        # self.tokenizer = tokenizer\n",
    "    \n",
    "    def __len__(self):\n",
    "        return len(self.df)\n",
    "    \n",
    "    def __getitem__(self, idx):\n",
    "        \n",
    "        image_path = self.df['Image_Path'][idx]\n",
    "        question = self.df['text'][idx]\n",
    "        label = self.df['labels'][idx]\n",
    "        image = Image.open(image_path).convert(\"RGB\")\n",
    "        image_embedding = self.image_encoder.encode(image, convert_to_tensor=True, device=device)\n",
    "        image_embedding = image_embedding.detach()\n",
    "\n",
    "#         image_inputs = self.image_processor(image, return_tensors=\"pt\")\n",
    "#         image_inputs = image_inputs.to(device)\n",
    "#         image_outputs = self.image_encoder(**image_inputs)\n",
    "#         image_embedding = image_outputs.pooler_output\n",
    "#         image_embedding = image_embedding.view(-1)\n",
    "#         image_embedding = image_embedding.detach()\n",
    "#         # print(f\"Image Embedding Shape: {image_embedding.shape}\")\n",
    "        text_embedding = self.text_encoder.encode(question, convert_to_tensor=True, device=device)\n",
    "        text_embedding = text_embedding.detach()\n",
    "\n",
    "        # text_inputs = self.tokenizer(question, return_tensors=\"pt\", truncation=True, padding=\"max_length\")\n",
    "        # text_inputs = text_inputs.to(device)\n",
    "        # text_outputs = self.text_encoder(**text_inputs)\n",
    "        # text_embedding = text_outputs.pooler_output\n",
    "        # text_embedding = text_embedding.view(-1)\n",
    "        # text_embedding = text_embedding.detach()\n",
    "        # # print(f\"Text Embedding Shape: {text_embedding.shape}\")\n",
    "        \n",
    "        encoding = {}\n",
    "        encoding['image_embd'] = image_embedding\n",
    "        encoding['text_embd'] = text_embedding\n",
    "        encoding['label'] = torch.tensor(label)\n",
    "        \n",
    "        return encoding"
   ]
  },
  {
   "cell_type": "code",
   "execution_count": 51,
   "id": "de7d11db-a539-484b-b7db-1d225bb82ac1",
   "metadata": {
    "tags": []
   },
   "outputs": [],
   "source": [
    "train_df.reset_index(drop=True, inplace=True)\n",
    "eval_df.reset_index(drop=True, inplace=True)\n",
    "\n",
    "train_dataset = EasyVQADataset(train_df, \n",
    "                               image_encoder, \n",
    "                               text_encoder)\n",
    "\n",
    "eval_dataset = EasyVQADataset(eval_df, \n",
    "                              image_encoder, \n",
    "                              text_encoder)"
   ]
  },
  {
   "cell_type": "code",
   "execution_count": 52,
   "id": "6a2794ff-6d4b-4c71-88a1-afd021849fca",
   "metadata": {
    "tags": []
   },
   "outputs": [],
   "source": [
    "BATCH_SIZE = 64\n",
    "EVAL_BATCH_SIZE = 64\n",
    "\n",
    "train_loader = DataLoader(train_dataset, \n",
    "                          sampler=RandomSampler(train_dataset), \n",
    "                          batch_size=BATCH_SIZE)\n",
    "validation_loader = DataLoader(eval_dataset, \n",
    "                               sampler=SequentialSampler(eval_dataset), \n",
    "                               batch_size=EVAL_BATCH_SIZE)"
   ]
  },
  {
   "cell_type": "code",
   "execution_count": 53,
   "id": "e5d26718-f03e-4eeb-8ed6-8796c4eba6bf",
   "metadata": {
    "tags": []
   },
   "outputs": [],
   "source": [
    "loader = iter(train_loader)\n",
    "encoding = next(loader)"
   ]
  },
  {
   "cell_type": "code",
   "execution_count": 54,
   "id": "086e375f-e6da-44a5-a451-a0abdc6e8887",
   "metadata": {
    "tags": []
   },
   "outputs": [
    {
     "data": {
      "text/plain": [
       "torch.Size([64, 768])"
      ]
     },
     "execution_count": 54,
     "metadata": {},
     "output_type": "execute_result"
    }
   ],
   "source": [
    "encoding['image_embd'].shape"
   ]
  },
  {
   "cell_type": "code",
   "execution_count": 55,
   "id": "cbf39ae2-0843-4cf0-967d-4cdf17378e8d",
   "metadata": {
    "tags": []
   },
   "outputs": [
    {
     "data": {
      "text/plain": [
       "torch.Size([64, 768])"
      ]
     },
     "execution_count": 55,
     "metadata": {},
     "output_type": "execute_result"
    }
   ],
   "source": [
    "encoding['text_embd'].shape"
   ]
  },
  {
   "cell_type": "code",
   "execution_count": 56,
   "id": "844e656e-f8aa-4a2c-8ab8-0bec4184aa61",
   "metadata": {
    "tags": []
   },
   "outputs": [],
   "source": [
    "import random\n",
    "from torch import nn\n",
    "import requests\n",
    "from tqdm.notebook import tqdm\n",
    "from sklearn.metrics import accuracy_score"
   ]
  },
  {
   "cell_type": "code",
   "execution_count": 57,
   "id": "07e82183-38f5-4627-b480-a86d5a9d08c2",
   "metadata": {
    "tags": []
   },
   "outputs": [],
   "source": [
    "def accuracy_score_func(preds, labels):\n",
    "    return accuracy_score(labels, preds)"
   ]
  },
  {
   "cell_type": "code",
   "execution_count": 58,
   "id": "54fe4178-928c-4ce4-a536-68d641702ab3",
   "metadata": {
    "tags": []
   },
   "outputs": [],
   "source": [
    "criterion = nn.CrossEntropyLoss()\n",
    "# criterion = torch.nn.BCEWithLogitsLoss()"
   ]
  },
  {
   "cell_type": "code",
   "execution_count": 59,
   "id": "f835ad24-8528-44ec-a067-1805c2907f8a",
   "metadata": {
    "tags": []
   },
   "outputs": [],
   "source": [
    "def evaluate(dataloader_val):\n",
    "\n",
    "    model.eval()\n",
    "    \n",
    "    loss_val_total = 0\n",
    "    predictions, true_vals, confidence = [], [], []\n",
    "    \n",
    "    for batch in dataloader_val:\n",
    "        \n",
    "        batch = tuple(b.to(device) for b in batch.values())\n",
    "        \n",
    "        inputs = {'image_emb':  batch[0],'text_emb': batch[1]}  \n",
    "\n",
    "        with torch.no_grad():        \n",
    "            outputs = model(**inputs)\n",
    "            \n",
    "        labels =  batch[2]  \n",
    "        loss = criterion(outputs.view(-1, 2), labels.view(-1)) ## no_of classes\n",
    "        loss_val_total += loss.item()\n",
    "\n",
    "        probs   = torch.max(outputs.softmax(dim=1), dim=-1)[0].detach().cpu().numpy()\n",
    "        outputs = outputs.argmax(-1)\n",
    "        logits = outputs.detach().cpu().numpy()\n",
    "        label_ids = labels.cpu().numpy()\n",
    "        predictions.append(logits)\n",
    "        true_vals.append(label_ids)\n",
    "        confidence.append(probs)\n",
    "    \n",
    "    loss_val_avg = loss_val_total/len(dataloader_val)\n",
    "    predictions = np.concatenate(predictions, axis=0)\n",
    "    true_vals = np.concatenate(true_vals, axis=0)\n",
    "    confidence = np.concatenate(confidence, axis=0)\n",
    "            \n",
    "    return loss_val_avg, predictions, true_vals, confidence"
   ]
  },
  {
   "cell_type": "code",
   "execution_count": 65,
   "id": "950f2c80-6891-4156-8dad-63af2bf4e85e",
   "metadata": {
    "tags": []
   },
   "outputs": [],
   "source": [
    "def train():\n",
    "\n",
    "    train_history = open(\"./train_history.csv\", \"w\") ########################3333save\n",
    "    log_hdr  = \"Epoch, train_loss, train_acc, val_loss, val_acc\"\n",
    "    train_history.write(log_hdr  + \"\\n\")\n",
    "    train_f1s = []\n",
    "    val_f1s = []\n",
    "    train_losses = []\n",
    "    val_losses = []\n",
    "    min_val_loss = -1\n",
    "    max_auc_score = 0\n",
    "    epochs_no_improve = 0\n",
    "    early_stopping_epoch = 3\n",
    "    early_stop = False\n",
    "\n",
    "    for epoch in tqdm(range(1, epochs+1)):\n",
    "        model.train()\n",
    "        loss_train_total = 0\n",
    "        train_predictions, train_true_vals = [], []\n",
    "\n",
    "        progress_bar = tqdm(train_loader, desc='Epoch {:1d}'.format(epoch), leave=False, disable=False)\n",
    "\n",
    "        for batch in progress_bar:\n",
    "            model.zero_grad()\n",
    "            batch = tuple(b.to(device) for b in batch.values())\n",
    "\n",
    "            inputs = {'image_emb':  batch[0],'text_emb': batch[1]} \n",
    "            labels =  batch[2]\n",
    "\n",
    "            outputs = model(**inputs)\n",
    "            loss = criterion(outputs.view(-1, 2), labels.view(-1))\n",
    "            loss_train_total += loss.item()\n",
    "            loss.backward()\n",
    "            torch.nn.utils.clip_grad_norm_(model.parameters(), 1.0)\n",
    "\n",
    "            logits = outputs.argmax(-1)\n",
    "            logits = logits.detach().cpu().numpy()\n",
    "            label_ids = labels.cpu().numpy()\n",
    "            train_predictions.append(logits)\n",
    "            train_true_vals.append(label_ids)\n",
    "\n",
    "            optimizer.step()\n",
    "            scheduler.step()\n",
    "\n",
    "            progress_bar.set_postfix({'training_loss': '{:.3f}'.format(loss.item()/len(batch))})\n",
    "\n",
    "\n",
    "\n",
    "        train_predictions = np.concatenate(train_predictions, axis=0)\n",
    "        train_true_vals = np.concatenate(train_true_vals, axis=0)\n",
    "\n",
    "        tqdm.write(f'\\nEpoch {epoch}')\n",
    "        loss_train_avg = loss_train_total/len(train_loader)            \n",
    "        tqdm.write(f'Training loss: {loss_train_avg}')\n",
    "        train_f1 = accuracy_score_func(train_predictions, train_true_vals)\n",
    "        tqdm.write(f'Train Acc: {train_f1}')\n",
    "\n",
    "        val_loss, predictions, true_vals,_ = evaluate(validation_loader)\n",
    "        val_f1 = accuracy_score_func(predictions, true_vals)\n",
    "        tqdm.write(f'Validation loss: {val_loss}')\n",
    "        tqdm.write(f'Val Acc: {val_f1}')\n",
    "\n",
    "        if val_f1 >= max_auc_score:\n",
    "            tqdm.write('\\nSaving best model')\n",
    "            torch.save(model.state_dict(), f'./epoch_{epoch}.model')    #####################33save       \n",
    "            max_auc_score = val_f1\n",
    "\n",
    "        train_losses.append(loss_train_avg)\n",
    "        val_losses.append(val_loss)\n",
    "        train_f1s.append(train_f1)\n",
    "        val_f1s.append(val_f1)\n",
    "        log_str  = \"{}, {}, {}, {}, {}\".format(epoch, loss_train_avg, train_f1, val_loss, val_f1)\n",
    "        train_history.write(log_str + \"\\n\")\n",
    "\n",
    "        if min_val_loss < 0:\n",
    "            min_val_loss = val_loss\n",
    "        else:\n",
    "            if val_loss < min_val_loss:\n",
    "                min_val_loss = val_loss\n",
    "            else:\n",
    "                epochs_no_improve += 1\n",
    "                if epochs_no_improve >= early_stopping_epoch:\n",
    "                    early_stop = True\n",
    "                    break\n",
    "                else:\n",
    "                    continue    \n",
    "\n",
    "    if early_stop:\n",
    "        print(\"Early Stopping activated at epoch -\", epoch )\n",
    "        print(\"Use the checkpoint at epoch - \", epoch - early_stopping_epoch)\n",
    "\n",
    "    train_history.close()\n",
    "    return train_losses, val_losses"
   ]
  },
  {
   "cell_type": "code",
   "execution_count": 66,
   "id": "12c8d5fe-3d49-43f6-875b-70910a0b99a4",
   "metadata": {
    "tags": []
   },
   "outputs": [],
   "source": [
    "class EasyVQAEarlyFusion(nn.Module):\n",
    "\n",
    "    def __init__(self, hyperparms=None):\n",
    "\n",
    "        super(EasyVQAEarlyFusion, self).__init__()        \n",
    "        self.dropout = nn.Dropout(0.3)\n",
    "        # self.vision_projection = nn.Linear(2048, 768) \n",
    "        # self.text_projection = nn.Linear(393216, 768)\n",
    "        self.fc1 = nn.Linear(768, 256) \n",
    "        self.bn1 = nn.BatchNorm1d(256)\n",
    "        self.classifier = nn.Linear(256, 2)\n",
    "        U = torch.Tensor(768, 768)\n",
    "        self.U = nn.Parameter(U)\n",
    "\n",
    "        # Weight Matrix - Text modality \n",
    "        V = torch.Tensor(768, 768)\n",
    "        self.V = nn.Parameter(V)\n",
    "        W = torch.Tensor(768, 768)\n",
    "        self.W = nn.Parameter(W)\n",
    "        self.relu_f = nn.ReLU()\n",
    "        self.sigmoid_f = nn.Sigmoid()\n",
    "        # initialize weight matrices\n",
    "        nn.init.kaiming_uniform_(self.U, a=np.sqrt(5))\n",
    "        nn.init.kaiming_uniform_(self.V, a=np.sqrt(5))\n",
    "        nn.init.kaiming_uniform_(self.W, a=np.sqrt(5))\n",
    "        \n",
    "    def forward(self, image_emb, text_emb):\n",
    "\n",
    "        x1 = image_emb   \n",
    "        x1 = torch.nn.functional.normalize(x1, p=2, dim=1)\n",
    "        # Xv = self.relu_f(x1)\n",
    "        Xv = torch.mm(x1, self.U.t())\n",
    "        \n",
    "        x2 = text_emb\n",
    "        x2 = torch.nn.functional.normalize(x2, p=2, dim=1)\n",
    "        # Xt = self.relu_f(self.text_projection(x2))\n",
    "        # Xt = self.relu_f(x2)\n",
    "        Xt = torch.mm(x2, self.V.t())\n",
    "        \n",
    "        # print(Xv.shape, Xt.shape)\n",
    "        \n",
    "        #Xvt = Xv * Xt\n",
    "        Xvt = Xv * self.sigmoid_f(Xt)\n",
    "        Xvt = self.relu_f(torch.mm(Xvt, self.W.t()))\n",
    "\n",
    "        Xvt = self.fc1(Xvt)\n",
    "        Xvt = self.bn1(Xvt)\n",
    "        Xvt = self.dropout(Xvt)\n",
    "        Xvt = self.classifier(Xvt)\n",
    "\n",
    "        return Xvt"
   ]
  },
  {
   "cell_type": "code",
   "execution_count": 67,
   "id": "ee9f4c09-91e4-48ab-9100-c5c346efcfa4",
   "metadata": {
    "tags": []
   },
   "outputs": [
    {
     "data": {
      "text/plain": [
       "EasyVQAEarlyFusion(\n",
       "  (dropout): Dropout(p=0.3, inplace=False)\n",
       "  (fc1): Linear(in_features=768, out_features=256, bias=True)\n",
       "  (bn1): BatchNorm1d(256, eps=1e-05, momentum=0.1, affine=True, track_running_stats=True)\n",
       "  (classifier): Linear(in_features=256, out_features=2, bias=True)\n",
       "  (relu_f): ReLU()\n",
       "  (sigmoid_f): Sigmoid()\n",
       ")"
      ]
     },
     "execution_count": 67,
     "metadata": {},
     "output_type": "execute_result"
    }
   ],
   "source": [
    "model = EasyVQAEarlyFusion()\n",
    "model.to(device)"
   ]
  },
  {
   "cell_type": "code",
   "execution_count": 68,
   "id": "d6d047f8-0104-40bf-8683-19057e083c98",
   "metadata": {
    "tags": []
   },
   "outputs": [
    {
     "name": "stdout",
     "output_type": "stream",
     "text": [
      "train_steps 2000\n",
      "warm_steps 200.0\n"
     ]
    }
   ],
   "source": [
    "from transformers import get_linear_schedule_with_warmup\n",
    "from torch.optim import AdamW\n",
    "\n",
    "optimizer = AdamW(model.parameters(),\n",
    "                  lr=5e-5, \n",
    "                  weight_decay = 1e-5,\n",
    "                  eps=1e-8\n",
    "                  )\n",
    "                  \n",
    "epochs = 8\n",
    "train_steps=2000\n",
    "print(\"train_steps\", train_steps)\n",
    "warm_steps = train_steps * 0.1\n",
    "print(\"warm_steps\", warm_steps)\n",
    "scheduler = get_linear_schedule_with_warmup(optimizer, \n",
    "                                            num_warmup_steps=warm_steps,\n",
    "                                            num_training_steps=train_steps)"
   ]
  },
  {
   "cell_type": "code",
   "execution_count": 69,
   "id": "f4d88559-e78d-45f4-9eba-49b6bc2ebd07",
   "metadata": {
    "tags": []
   },
   "outputs": [
    {
     "data": {
      "application/vnd.jupyter.widget-view+json": {
       "model_id": "c1ef7432723d440d8d249979fea8a6e9",
       "version_major": 2,
       "version_minor": 0
      },
      "text/plain": [
       "  0%|          | 0/8 [00:00<?, ?it/s]"
      ]
     },
     "metadata": {},
     "output_type": "display_data"
    },
    {
     "data": {
      "application/vnd.jupyter.widget-view+json": {
       "model_id": "",
       "version_major": 2,
       "version_minor": 0
      },
      "text/plain": [
       "Epoch 1:   0%|          | 0/5 [00:00<?, ?it/s]"
      ]
     },
     "metadata": {},
     "output_type": "display_data"
    },
    {
     "name": "stdout",
     "output_type": "stream",
     "text": [
      "\n",
      "Epoch 1\n",
      "Training loss: 0.7241382479667664\n",
      "Train Acc: 0.4375\n",
      "Validation loss: 0.7027428448200226\n",
      "Val Acc: 0.5\n",
      "\n",
      "Saving best model\n"
     ]
    },
    {
     "data": {
      "application/vnd.jupyter.widget-view+json": {
       "model_id": "",
       "version_major": 2,
       "version_minor": 0
      },
      "text/plain": [
       "Epoch 2:   0%|          | 0/5 [00:00<?, ?it/s]"
      ]
     },
     "metadata": {},
     "output_type": "display_data"
    },
    {
     "name": "stdout",
     "output_type": "stream",
     "text": [
      "\n",
      "Epoch 2\n",
      "Training loss: 0.7206051826477051\n",
      "Train Acc: 0.4632352941176471\n",
      "Validation loss: 0.7020904719829559\n",
      "Val Acc: 0.5\n",
      "\n",
      "Saving best model\n"
     ]
    },
    {
     "data": {
      "application/vnd.jupyter.widget-view+json": {
       "model_id": "",
       "version_major": 2,
       "version_minor": 0
      },
      "text/plain": [
       "Epoch 3:   0%|          | 0/5 [00:00<?, ?it/s]"
      ]
     },
     "metadata": {},
     "output_type": "display_data"
    },
    {
     "name": "stdout",
     "output_type": "stream",
     "text": [
      "\n",
      "Epoch 3\n",
      "Training loss: 0.7206012010574341\n",
      "Train Acc: 0.5036764705882353\n",
      "Validation loss: 0.7014696002006531\n",
      "Val Acc: 0.5\n",
      "\n",
      "Saving best model\n"
     ]
    },
    {
     "data": {
      "application/vnd.jupyter.widget-view+json": {
       "model_id": "",
       "version_major": 2,
       "version_minor": 0
      },
      "text/plain": [
       "Epoch 4:   0%|          | 0/5 [00:00<?, ?it/s]"
      ]
     },
     "metadata": {},
     "output_type": "display_data"
    },
    {
     "name": "stdout",
     "output_type": "stream",
     "text": [
      "\n",
      "Epoch 4\n",
      "Training loss: 0.6815750122070312\n",
      "Train Acc: 0.5367647058823529\n",
      "Validation loss: 0.7007781267166138\n",
      "Val Acc: 0.5\n",
      "\n",
      "Saving best model\n"
     ]
    },
    {
     "data": {
      "application/vnd.jupyter.widget-view+json": {
       "model_id": "",
       "version_major": 2,
       "version_minor": 0
      },
      "text/plain": [
       "Epoch 5:   0%|          | 0/5 [00:00<?, ?it/s]"
      ]
     },
     "metadata": {},
     "output_type": "display_data"
    },
    {
     "name": "stdout",
     "output_type": "stream",
     "text": [
      "\n",
      "Epoch 5\n",
      "Training loss: 0.6230622410774231\n",
      "Train Acc: 0.6985294117647058\n",
      "Validation loss: 0.6998692750930786\n",
      "Val Acc: 0.5\n",
      "\n",
      "Saving best model\n"
     ]
    },
    {
     "data": {
      "application/vnd.jupyter.widget-view+json": {
       "model_id": "",
       "version_major": 2,
       "version_minor": 0
      },
      "text/plain": [
       "Epoch 6:   0%|          | 0/5 [00:00<?, ?it/s]"
      ]
     },
     "metadata": {},
     "output_type": "display_data"
    },
    {
     "name": "stdout",
     "output_type": "stream",
     "text": [
      "\n",
      "Epoch 6\n",
      "Training loss: 0.58005450963974\n",
      "Train Acc: 0.7683823529411765\n",
      "Validation loss: 0.6984795331954956\n",
      "Val Acc: 0.5\n",
      "\n",
      "Saving best model\n"
     ]
    },
    {
     "data": {
      "application/vnd.jupyter.widget-view+json": {
       "model_id": "",
       "version_major": 2,
       "version_minor": 0
      },
      "text/plain": [
       "Epoch 7:   0%|          | 0/5 [00:00<?, ?it/s]"
      ]
     },
     "metadata": {},
     "output_type": "display_data"
    },
    {
     "name": "stdout",
     "output_type": "stream",
     "text": [
      "\n",
      "Epoch 7\n",
      "Training loss: 0.5349227786064148\n",
      "Train Acc: 0.8492647058823529\n",
      "Validation loss: 0.696252167224884\n",
      "Val Acc: 0.5\n",
      "\n",
      "Saving best model\n"
     ]
    },
    {
     "data": {
      "application/vnd.jupyter.widget-view+json": {
       "model_id": "",
       "version_major": 2,
       "version_minor": 0
      },
      "text/plain": [
       "Epoch 8:   0%|          | 0/5 [00:00<?, ?it/s]"
      ]
     },
     "metadata": {},
     "output_type": "display_data"
    },
    {
     "name": "stdout",
     "output_type": "stream",
     "text": [
      "\n",
      "Epoch 8\n",
      "Training loss: 0.49032829999923705\n",
      "Train Acc: 0.9080882352941176\n",
      "Validation loss: 0.6927202939987183\n",
      "Val Acc: 0.5\n",
      "\n",
      "Saving best model\n"
     ]
    }
   ],
   "source": [
    "import matplotlib.pyplot as plt\n",
    "\n",
    "train_losses, val_losses =  train()"
   ]
  },
  {
   "cell_type": "code",
   "execution_count": 70,
   "id": "fc01eda3-a198-4b26-b121-f2b0a9a52df4",
   "metadata": {
    "tags": []
   },
   "outputs": [
    {
     "data": {
      "image/png": "[encoded data removed]",
      "text/plain": [
       "<Figure size 432x288 with 1 Axes>"
      ]
     },
     "metadata": {
      "needs_background": "light"
     },
     "output_type": "display_data"
    }
   ],
   "source": [
    "plt.plot(train_losses)\n",
    "plt.plot(val_losses)\n",
    "plt.title('model loss')\n",
    "plt.ylabel('loss')\n",
    "plt.xlabel('epoch')\n",
    "plt.legend(['train', 'val'], loc='upper left')\n",
    "plt.show()"
   ]
  },
  {
   "cell_type": "code",
   "execution_count": 71,
   "id": "f1e38e6a-1c42-4ac3-bc82-39c71736cc09",
   "metadata": {
    "tags": []
   },
   "outputs": [],
   "source": [
    "test_df = test_df.reset_index(drop=True)"
   ]
  },
  {
   "cell_type": "code",
   "execution_count": 72,
   "id": "d161de15-073f-4d38-8bdd-d6d8c2e755ff",
   "metadata": {
    "tags": []
   },
   "outputs": [],
   "source": [
    "test_dataset = EasyVQADataset(\n",
    "                           df=test_df,\n",
    "                           image_encoder = image_encoder,\n",
    "                           text_encoder = text_encoder\n",
    "                           )"
   ]
  },
  {
   "cell_type": "code",
   "execution_count": 75,
   "id": "ea8f42ab-d33b-4756-898f-46f226515edd",
   "metadata": {
    "tags": []
   },
   "outputs": [
    {
     "data": {
      "text/plain": [
       "EasyVQAEarlyFusion(\n",
       "  (dropout): Dropout(p=0.3, inplace=False)\n",
       "  (fc1): Linear(in_features=768, out_features=256, bias=True)\n",
       "  (bn1): BatchNorm1d(256, eps=1e-05, momentum=0.1, affine=True, track_running_stats=True)\n",
       "  (classifier): Linear(in_features=256, out_features=2, bias=True)\n",
       "  (relu_f): ReLU()\n",
       "  (sigmoid_f): Sigmoid()\n",
       ")"
      ]
     },
     "execution_count": 75,
     "metadata": {},
     "output_type": "execute_result"
    }
   ],
   "source": [
    "device = \"cuda:0\"\n",
    "model.load_state_dict(torch.load('epoch_6.model'))\n",
    "model.to(device)"
   ]
  },
  {
   "cell_type": "code",
   "execution_count": 76,
   "id": "89dd5a06-08fa-4ba3-98ac-15e8bca708bd",
   "metadata": {
    "tags": []
   },
   "outputs": [],
   "source": [
    "dataloader_test = DataLoader(test_dataset, \n",
    "                            sampler=SequentialSampler(test_dataset), \n",
    "                            batch_size=64)\n",
    "\n",
    "_, preds, truths, confidence = evaluate(dataloader_test)"
   ]
  },
  {
   "cell_type": "code",
   "execution_count": 77,
   "id": "584aaee3-a177-416e-929b-734aae73f3a9",
   "metadata": {
    "tags": []
   },
   "outputs": [
    {
     "name": "stdout",
     "output_type": "stream",
     "text": [
      "Test Acc with ViT:  0.5\n"
     ]
    }
   ],
   "source": [
    "print(\"Test Acc with ViT: \" , accuracy_score_func(preds,truths))"
   ]
  },
  {
   "cell_type": "code",
   "execution_count": 78,
   "id": "7eda92fb-b273-4f19-ac6f-7f0487c4182e",
   "metadata": {
    "tags": []
   },
   "outputs": [],
   "source": [
    "pred_df = pd.DataFrame({\"Prediction\":preds, \"GroundTruth\":truths, \"Confidence\":confidence})"
   ]
  },
  {
   "cell_type": "code",
   "execution_count": 79,
   "id": "978430f3-a665-4db6-abeb-1e3314289359",
   "metadata": {
    "tags": []
   },
   "outputs": [],
   "source": [
    "test_results_df = pd.concat([test_df, pred_df], axis=1)"
   ]
  },
  {
   "cell_type": "code",
   "execution_count": 80,
   "id": "c22e90c6-a826-4faf-a208-834bb74dfa73",
   "metadata": {
    "tags": []
   },
   "outputs": [
    {
     "data": {
      "text/plain": [
       "{0: 'Invoice', 1: 'Discharge_Summary'}"
      ]
     },
     "execution_count": 80,
     "metadata": {},
     "output_type": "execute_result"
    }
   ],
   "source": [
    "idx2label = {v:k for k, v in label2idx.items()}\n",
    "idx2label"
   ]
  },
  {
   "cell_type": "code",
   "execution_count": 81,
   "id": "3b337334-bcc1-4655-bd83-85fe23dc7e48",
   "metadata": {
    "tags": []
   },
   "outputs": [],
   "source": [
    "dmap = {0: 'Invoice', 1: 'Discharge_Summary'}"
   ]
  },
  {
   "cell_type": "code",
   "execution_count": 82,
   "id": "432f98cc-3563-471e-9721-6e86feeafb94",
   "metadata": {
    "tags": []
   },
   "outputs": [],
   "source": [
    "test_results_df['pr'] = test_results_df['Prediction'].map(dmap)\n",
    "test_results_df['gt'] = test_results_df['GroundTruth'].map(dmap)"
   ]
  },
  {
   "cell_type": "code",
   "execution_count": 83,
   "id": "60e42cc5-399e-4a01-8577-05a65346e84e",
   "metadata": {
    "tags": []
   },
   "outputs": [],
   "source": [
    "test_results_df['PredAnswer'] = test_results_df['Prediction'].map(idx2label)"
   ]
  },
  {
   "cell_type": "code",
   "execution_count": 84,
   "id": "cad4aa22-0be3-4b0c-a0cb-67befa7f64a0",
   "metadata": {
    "tags": []
   },
   "outputs": [
    {
     "data": {
      "text/html": [
       "<div>\n",
       "<style scoped>\n",
       "    .dataframe tbody tr th:only-of-type {\n",
       "        vertical-align: middle;\n",
       "    }\n",
       "\n",
       "    .dataframe tbody tr th {\n",
       "        vertical-align: top;\n",
       "    }\n",
       "\n",
       "    .dataframe thead th {\n",
       "        text-align: right;\n",
       "    }\n",
       "</style>\n",
       "<table border=\"1\" class=\"dataframe\">\n",
       "  <thead>\n",
       "    <tr style=\"text-align: right;\">\n",
       "      <th></th>\n",
       "      <th>Unnamed: 0</th>\n",
       "      <th>Image_Path</th>\n",
       "      <th>labels</th>\n",
       "      <th>text</th>\n",
       "      <th>Prediction</th>\n",
       "      <th>GroundTruth</th>\n",
       "      <th>Confidence</th>\n",
       "      <th>pr</th>\n",
       "      <th>gt</th>\n",
       "      <th>PredAnswer</th>\n",
       "    </tr>\n",
       "  </thead>\n",
       "  <tbody>\n",
       "    <tr>\n",
       "      <th>0</th>\n",
       "      <td>165</td>\n",
       "      <td>/home/dkuwarbi/docI/images_forged/OC-22-1002-6...</td>\n",
       "      <td>0</td>\n",
       "      <td>lbTZasoHoT9ug= S55t &gt; ON abegseees* abed axau ...</td>\n",
       "      <td>1</td>\n",
       "      <td>0</td>\n",
       "      <td>0.515210</td>\n",
       "      <td>Discharge_Summary</td>\n",
       "      <td>Invoice</td>\n",
       "      <td>Discharge_Summary</td>\n",
       "    </tr>\n",
       "    <tr>\n",
       "      <th>1</th>\n",
       "      <td>23</td>\n",
       "      <td>/home/dkuwarbi/docI/images_forged/210009077Pdi...</td>\n",
       "      <td>1</td>\n",
       "      <td>Boo Bages®SUPRIYA HOSPITAL#15/1, Ayyappaswamy ...</td>\n",
       "      <td>1</td>\n",
       "      <td>1</td>\n",
       "      <td>0.517324</td>\n",
       "      <td>Discharge_Summary</td>\n",
       "      <td>Discharge_Summary</td>\n",
       "      <td>Discharge_Summary</td>\n",
       "    </tr>\n",
       "    <tr>\n",
       "      <th>2</th>\n",
       "      <td>213</td>\n",
       "      <td>/home/dkuwarbi/docI/images_forged/OC-22-1002-6...</td>\n",
       "      <td>1</td>\n",
       "      <td>£450 ¢ a6egwyhoYy 4G.SES ANSAO WIGAN IO BNYN *...</td>\n",
       "      <td>1</td>\n",
       "      <td>1</td>\n",
       "      <td>0.515960</td>\n",
       "      <td>Discharge_Summary</td>\n",
       "      <td>Discharge_Summary</td>\n",
       "      <td>Discharge_Summary</td>\n",
       "    </tr>\n",
       "    <tr>\n",
       "      <th>3</th>\n",
       "      <td>376</td>\n",
       "      <td>/home/dkuwarbi/docI/images_forged/OC-22-1002-6...</td>\n",
       "      <td>0</td>\n",
       "      <td>C=} SANGHAMITHRAHOSPITALS DAdvances Grand Tota...</td>\n",
       "      <td>1</td>\n",
       "      <td>0</td>\n",
       "      <td>0.513155</td>\n",
       "      <td>Discharge_Summary</td>\n",
       "      <td>Invoice</td>\n",
       "      <td>Discharge_Summary</td>\n",
       "    </tr>\n",
       "    <tr>\n",
       "      <th>4</th>\n",
       "      <td>249</td>\n",
       "      <td>/home/dkuwarbi/docI/images_forged/OC-22-1002-6...</td>\n",
       "      <td>0</td>\n",
       "      <td>7)Yeerot CIMS,- rama nest wrwricims.or8 crgg F...</td>\n",
       "      <td>1</td>\n",
       "      <td>0</td>\n",
       "      <td>0.515532</td>\n",
       "      <td>Discharge_Summary</td>\n",
       "      <td>Invoice</td>\n",
       "      <td>Discharge_Summary</td>\n",
       "    </tr>\n",
       "    <tr>\n",
       "      <th>5</th>\n",
       "      <td>65</td>\n",
       "      <td>/home/dkuwarbi/docI/images_forged/210014237P f...</td>\n",
       "      <td>0</td>\n",
       "      <td>GST INVOICEUTKARSH MEDICAL STORE14-A (I1)-C BA...</td>\n",
       "      <td>1</td>\n",
       "      <td>0</td>\n",
       "      <td>0.514157</td>\n",
       "      <td>Discharge_Summary</td>\n",
       "      <td>Invoice</td>\n",
       "      <td>Discharge_Summary</td>\n",
       "    </tr>\n",
       "    <tr>\n",
       "      <th>6</th>\n",
       "      <td>374</td>\n",
       "      <td>/home/dkuwarbi/docI/images_forged/OC-22-1002-6...</td>\n",
       "      <td>0</td>\n",
       "      <td>«: [GHAMITHRAHos!- HOSPITALS(N~1002-5198266——I...</td>\n",
       "      <td>1</td>\n",
       "      <td>0</td>\n",
       "      <td>0.513277</td>\n",
       "      <td>Discharge_Summary</td>\n",
       "      <td>Invoice</td>\n",
       "      <td>Discharge_Summary</td>\n",
       "    </tr>\n",
       "    <tr>\n",
       "      <th>7</th>\n",
       "      <td>263</td>\n",
       "      <td>/home/dkuwarbi/docI/images_forged/OC-22-1002-6...</td>\n",
       "      <td>1</td>\n",
       "      <td>Patient Name ;Mr, NISHIKANT KOLTEHome Quaranti...</td>\n",
       "      <td>1</td>\n",
       "      <td>1</td>\n",
       "      <td>0.515278</td>\n",
       "      <td>Discharge_Summary</td>\n",
       "      <td>Discharge_Summary</td>\n",
       "      <td>Discharge_Summary</td>\n",
       "    </tr>\n",
       "    <tr>\n",
       "      <th>8</th>\n",
       "      <td>203</td>\n",
       "      <td>/home/dkuwarbi/docI/images_forged/OC-22-1002-6...</td>\n",
       "      <td>1</td>\n",
       "      <td>worsuys ann) — urorswnraue &gt; — -ABeygo SERN AA...</td>\n",
       "      <td>1</td>\n",
       "      <td>1</td>\n",
       "      <td>0.514678</td>\n",
       "      <td>Discharge_Summary</td>\n",
       "      <td>Discharge_Summary</td>\n",
       "      <td>Discharge_Summary</td>\n",
       "    </tr>\n",
       "    <tr>\n",
       "      <th>9</th>\n",
       "      <td>381</td>\n",
       "      <td>/home/dkuwarbi/docI/images_forged/OC-22-1501-6...</td>\n",
       "      <td>1</td>\n",
       "      <td>96909 99886 '6S199 99906 : aIIgo/W)€9009¢ - nu...</td>\n",
       "      <td>1</td>\n",
       "      <td>1</td>\n",
       "      <td>0.516727</td>\n",
       "      <td>Discharge_Summary</td>\n",
       "      <td>Discharge_Summary</td>\n",
       "      <td>Discharge_Summary</td>\n",
       "    </tr>\n",
       "    <tr>\n",
       "      <th>10</th>\n",
       "      <td>132</td>\n",
       "      <td>/home/dkuwarbi/docI/images_forged/OC-22-1002-6...</td>\n",
       "      <td>1</td>\n",
       "      <td>008 008 8S 04 16+/ 009 009 8S 04 Lé+ : 1129 EW...</td>\n",
       "      <td>1</td>\n",
       "      <td>1</td>\n",
       "      <td>0.514389</td>\n",
       "      <td>Discharge_Summary</td>\n",
       "      <td>Discharge_Summary</td>\n",
       "      <td>Discharge_Summary</td>\n",
       "    </tr>\n",
       "    <tr>\n",
       "      <th>11</th>\n",
       "      <td>251</td>\n",
       "      <td>/home/dkuwarbi/docI/images_forged/OC-22-1002-6...</td>\n",
       "      <td>1</td>\n",
       "      <td>HCIMS @CARE INSTITUTE OF MEDICAL SCIENCESEarni...</td>\n",
       "      <td>1</td>\n",
       "      <td>1</td>\n",
       "      <td>0.515975</td>\n",
       "      <td>Discharge_Summary</td>\n",
       "      <td>Discharge_Summary</td>\n",
       "      <td>Discharge_Summary</td>\n",
       "    </tr>\n",
       "    <tr>\n",
       "      <th>12</th>\n",
       "      <td>218</td>\n",
       "      <td>/home/dkuwarbi/docI/images_forged/OC-22-1002-6...</td>\n",
       "      <td>1</td>\n",
       "      <td>of S; Son yyESP Ul SjUepUAYe juayed OF PEuleEj...</td>\n",
       "      <td>1</td>\n",
       "      <td>1</td>\n",
       "      <td>0.517035</td>\n",
       "      <td>Discharge_Summary</td>\n",
       "      <td>Discharge_Summary</td>\n",
       "      <td>Discharge_Summary</td>\n",
       "    </tr>\n",
       "    <tr>\n",
       "      <th>13</th>\n",
       "      <td>80</td>\n",
       "      <td>/home/dkuwarbi/docI/images_forged/210014237P f...</td>\n",
       "      <td>0</td>\n",
       "      <td>— 6ST INVOICEContinue Page No.... 1® @ UWFEARS...</td>\n",
       "      <td>1</td>\n",
       "      <td>0</td>\n",
       "      <td>0.514804</td>\n",
       "      <td>Discharge_Summary</td>\n",
       "      <td>Invoice</td>\n",
       "      <td>Discharge_Summary</td>\n",
       "    </tr>\n",
       "    <tr>\n",
       "      <th>14</th>\n",
       "      <td>349</td>\n",
       "      <td>/home/dkuwarbi/docI/images_forged/OC-22-1002-6...</td>\n",
       "      <td>0</td>\n",
       "      <td>CIMS Hospital Pvt. Ltd.Near Shukan Mail, Off S...</td>\n",
       "      <td>1</td>\n",
       "      <td>0</td>\n",
       "      <td>0.512665</td>\n",
       "      <td>Discharge_Summary</td>\n",
       "      <td>Invoice</td>\n",
       "      <td>Discharge_Summary</td>\n",
       "    </tr>\n",
       "    <tr>\n",
       "      <th>15</th>\n",
       "      <td>282</td>\n",
       "      <td>/home/dkuwarbi/docI/images_forged/OC-22-1002-6...</td>\n",
       "      <td>1</td>\n",
       "      <td>Phono : 080 --2685 1995 / 96a SUPRA HOSPITAL. ...</td>\n",
       "      <td>1</td>\n",
       "      <td>1</td>\n",
       "      <td>0.517410</td>\n",
       "      <td>Discharge_Summary</td>\n",
       "      <td>Discharge_Summary</td>\n",
       "      <td>Discharge_Summary</td>\n",
       "    </tr>\n",
       "    <tr>\n",
       "      <th>16</th>\n",
       "      <td>365</td>\n",
       "      <td>/home/dkuwarbi/docI/images_forged/OC-22-1002-6...</td>\n",
       "      <td>1</td>\n",
       "      <td>X-Ray :CT SCAN/MRI :Procedure &amp; Operating Note...</td>\n",
       "      <td>1</td>\n",
       "      <td>1</td>\n",
       "      <td>0.514856</td>\n",
       "      <td>Discharge_Summary</td>\n",
       "      <td>Discharge_Summary</td>\n",
       "      <td>Discharge_Summary</td>\n",
       "    </tr>\n",
       "    <tr>\n",
       "      <th>17</th>\n",
       "      <td>35</td>\n",
       "      <td>/home/dkuwarbi/docI/images_forged/210012294Pfi...</td>\n",
       "      <td>1</td>\n",
       "      <td>SURGICAL &amp; PRASUTI HOMEPark, Above Tulsi Resta...</td>\n",
       "      <td>1</td>\n",
       "      <td>1</td>\n",
       "      <td>0.515092</td>\n",
       "      <td>Discharge_Summary</td>\n",
       "      <td>Discharge_Summary</td>\n",
       "      <td>Discharge_Summary</td>\n",
       "    </tr>\n",
       "    <tr>\n",
       "      <th>18</th>\n",
       "      <td>2</td>\n",
       "      <td>/home/dkuwarbi/docI/images_forged/210000083PSh...</td>\n",
       "      <td>1</td>\n",
       "      <td>She told at present there are 4 TB Patients in...</td>\n",
       "      <td>1</td>\n",
       "      <td>1</td>\n",
       "      <td>0.514702</td>\n",
       "      <td>Discharge_Summary</td>\n",
       "      <td>Discharge_Summary</td>\n",
       "      <td>Discharge_Summary</td>\n",
       "    </tr>\n",
       "    <tr>\n",
       "      <th>19</th>\n",
       "      <td>280</td>\n",
       "      <td>/home/dkuwarbi/docI/images_forged/OC-22-1002-6...</td>\n",
       "      <td>0</td>\n",
       "      <td>Sterling Hospital RajkoSs te vling A divison o...</td>\n",
       "      <td>1</td>\n",
       "      <td>0</td>\n",
       "      <td>0.514261</td>\n",
       "      <td>Discharge_Summary</td>\n",
       "      <td>Invoice</td>\n",
       "      <td>Discharge_Summary</td>\n",
       "    </tr>\n",
       "    <tr>\n",
       "      <th>20</th>\n",
       "      <td>182</td>\n",
       "      <td>/home/dkuwarbi/docI/images_forged/OC-22-1002-6...</td>\n",
       "      <td>1</td>\n",
       "      <td>LSISOTOHLVd(wed) ana ‘OWewneys eyboyisawey WOd...</td>\n",
       "      <td>1</td>\n",
       "      <td>1</td>\n",
       "      <td>0.515456</td>\n",
       "      <td>Discharge_Summary</td>\n",
       "      <td>Discharge_Summary</td>\n",
       "      <td>Discharge_Summary</td>\n",
       "    </tr>\n",
       "    <tr>\n",
       "      <th>21</th>\n",
       "      <td>156</td>\n",
       "      <td>/home/dkuwarbi/docI/images_forged/OC-22-1002-6...</td>\n",
       "      <td>1</td>\n",
       "      <td>(SUH 22) 49Sb Z9Sp OvOSANBVILNIOddY HOs“BOUBUI...</td>\n",
       "      <td>1</td>\n",
       "      <td>1</td>\n",
       "      <td>0.515234</td>\n",
       "      <td>Discharge_Summary</td>\n",
       "      <td>Discharge_Summary</td>\n",
       "      <td>Discharge_Summary</td>\n",
       "    </tr>\n",
       "    <tr>\n",
       "      <th>22</th>\n",
       "      <td>138</td>\n",
       "      <td>/home/dkuwarbi/docI/images_forged/OC-22-1002-6...</td>\n",
       "      <td>0</td>\n",
       "      <td>Zj0 | ebeg 8% ETIET J2 TZOZ-90-Z0 UO Ul'oo\"Yyo...</td>\n",
       "      <td>1</td>\n",
       "      <td>0</td>\n",
       "      <td>0.513757</td>\n",
       "      <td>Discharge_Summary</td>\n",
       "      <td>Invoice</td>\n",
       "      <td>Discharge_Summary</td>\n",
       "    </tr>\n",
       "    <tr>\n",
       "      <th>23</th>\n",
       "      <td>78</td>\n",
       "      <td>/home/dkuwarbi/docI/images_forged/210014237P f...</td>\n",
       "      <td>0</td>\n",
       "      <td>GST INVOICE@ UTKARSH revicaL STORE yy)14-A (II...</td>\n",
       "      <td>1</td>\n",
       "      <td>0</td>\n",
       "      <td>0.512974</td>\n",
       "      <td>Discharge_Summary</td>\n",
       "      <td>Invoice</td>\n",
       "      <td>Discharge_Summary</td>\n",
       "    </tr>\n",
       "    <tr>\n",
       "      <th>24</th>\n",
       "      <td>212</td>\n",
       "      <td>/home/dkuwarbi/docI/images_forged/OC-22-1002-6...</td>\n",
       "      <td>1</td>\n",
       "      <td>€ 3027 abeg(sAep oF 403) 1’°(skepotsy)o - 1 -(...</td>\n",
       "      <td>1</td>\n",
       "      <td>1</td>\n",
       "      <td>0.515892</td>\n",
       "      <td>Discharge_Summary</td>\n",
       "      <td>Discharge_Summary</td>\n",
       "      <td>Discharge_Summary</td>\n",
       "    </tr>\n",
       "    <tr>\n",
       "      <th>25</th>\n",
       "      <td>3</td>\n",
       "      <td>/home/dkuwarbi/docI/images_forged/210001735PFe...</td>\n",
       "      <td>0</td>\n",
       "      <td>C MacCoy Consultancy ies es: Krishna Nagar,Ser...</td>\n",
       "      <td>1</td>\n",
       "      <td>0</td>\n",
       "      <td>0.513028</td>\n",
       "      <td>Discharge_Summary</td>\n",
       "      <td>Invoice</td>\n",
       "      <td>Discharge_Summary</td>\n",
       "    </tr>\n",
       "    <tr>\n",
       "      <th>26</th>\n",
       "      <td>160</td>\n",
       "      <td>/home/dkuwarbi/docI/images_forged/OC-22-1002-6...</td>\n",
       "      <td>1</td>\n",
       "      <td>1 = Sieg BesJaals&lt; — “7 ) er:Be pe IB [90 mers...</td>\n",
       "      <td>1</td>\n",
       "      <td>1</td>\n",
       "      <td>0.514898</td>\n",
       "      <td>Discharge_Summary</td>\n",
       "      <td>Discharge_Summary</td>\n",
       "      <td>Discharge_Summary</td>\n",
       "    </tr>\n",
       "    <tr>\n",
       "      <th>27</th>\n",
       "      <td>363</td>\n",
       "      <td>/home/dkuwarbi/docI/images_forged/OC-22-1002-6...</td>\n",
       "      <td>0</td>\n",
       "      <td>CIN 8511 0GI2004P1.0044667Krishna Shalby Hospi...</td>\n",
       "      <td>1</td>\n",
       "      <td>0</td>\n",
       "      <td>0.513592</td>\n",
       "      <td>Discharge_Summary</td>\n",
       "      <td>Invoice</td>\n",
       "      <td>Discharge_Summary</td>\n",
       "    </tr>\n",
       "    <tr>\n",
       "      <th>28</th>\n",
       "      <td>221</td>\n",
       "      <td>/home/dkuwarbi/docI/images_forged/OC-22-1002-6...</td>\n",
       "      <td>0</td>\n",
       "      <td>LL °ON obedOO'ebS00'0be00°0200°0S200'SSo0'0St0...</td>\n",
       "      <td>1</td>\n",
       "      <td>0</td>\n",
       "      <td>0.513649</td>\n",
       "      <td>Discharge_Summary</td>\n",
       "      <td>Invoice</td>\n",
       "      <td>Discharge_Summary</td>\n",
       "    </tr>\n",
       "    <tr>\n",
       "      <th>29</th>\n",
       "      <td>248</td>\n",
       "      <td>/home/dkuwarbi/docI/images_forged/OC-22-1002-6...</td>\n",
       "      <td>0</td>\n",
       "      <td>®M4 CIMS CQ) HeeS BelesCARE INSTITUTE OF MEDIC...</td>\n",
       "      <td>1</td>\n",
       "      <td>0</td>\n",
       "      <td>0.514776</td>\n",
       "      <td>Discharge_Summary</td>\n",
       "      <td>Invoice</td>\n",
       "      <td>Discharge_Summary</td>\n",
       "    </tr>\n",
       "    <tr>\n",
       "      <th>30</th>\n",
       "      <td>246</td>\n",
       "      <td>/home/dkuwarbi/docI/images_forged/OC-22-1002-6...</td>\n",
       "      <td>0</td>\n",
       "      <td>«W1dSOH UNO OL LISIA LX3N HYNOA ONINNG ONOTW W...</td>\n",
       "      <td>1</td>\n",
       "      <td>0</td>\n",
       "      <td>0.515329</td>\n",
       "      <td>Discharge_Summary</td>\n",
       "      <td>Invoice</td>\n",
       "      <td>Discharge_Summary</td>\n",
       "    </tr>\n",
       "    <tr>\n",
       "      <th>31</th>\n",
       "      <td>234</td>\n",
       "      <td>/home/dkuwarbi/docI/images_forged/OC-22-1002-6...</td>\n",
       "      <td>0</td>\n",
       "      <td>z on'sie (NI YD Sb BLYOS SNIHSOLOVE PN] = NOLL...</td>\n",
       "      <td>1</td>\n",
       "      <td>0</td>\n",
       "      <td>0.513413</td>\n",
       "      <td>Discharge_Summary</td>\n",
       "      <td>Invoice</td>\n",
       "      <td>Discharge_Summary</td>\n",
       "    </tr>\n",
       "    <tr>\n",
       "      <th>32</th>\n",
       "      <td>320</td>\n",
       "      <td>/home/dkuwarbi/docI/images_forged/OC-22-1002-6...</td>\n",
       "      <td>1</td>\n",
       "      <td>Ph. 01493-51001+5/TVs Se SATYAM HOSPITAL « :cs...</td>\n",
       "      <td>1</td>\n",
       "      <td>1</td>\n",
       "      <td>0.517304</td>\n",
       "      <td>Discharge_Summary</td>\n",
       "      <td>Discharge_Summary</td>\n",
       "      <td>Discharge_Summary</td>\n",
       "    </tr>\n",
       "    <tr>\n",
       "      <th>33</th>\n",
       "      <td>27</td>\n",
       "      <td>/home/dkuwarbi/docI/images_forged/210010314P f...</td>\n",
       "      <td>0</td>\n",
       "      <td>LeLLLez'sosezez (z}S0) exemyos UeWRER YBs : Aq...</td>\n",
       "      <td>1</td>\n",
       "      <td>0</td>\n",
       "      <td>0.512177</td>\n",
       "      <td>Discharge_Summary</td>\n",
       "      <td>Invoice</td>\n",
       "      <td>Discharge_Summary</td>\n",
       "    </tr>\n",
       "    <tr>\n",
       "      <th>34</th>\n",
       "      <td>201</td>\n",
       "      <td>/home/dkuwarbi/docI/images_forged/OC-22-1002-6...</td>\n",
       "      <td>0</td>\n",
       "      <td>LOSZ06h-zOOT=NIoz | il EsISSO 1 on:o19¥8 MA Me...</td>\n",
       "      <td>1</td>\n",
       "      <td>0</td>\n",
       "      <td>0.514479</td>\n",
       "      <td>Discharge_Summary</td>\n",
       "      <td>Invoice</td>\n",
       "      <td>Discharge_Summary</td>\n",
       "    </tr>\n",
       "    <tr>\n",
       "      <th>35</th>\n",
       "      <td>325</td>\n",
       "      <td>/home/dkuwarbi/docI/images_forged/OC-22-1002-6...</td>\n",
       "      <td>1</td>\n",
       "      <td>aeOY Akshay Potphode / 285849YASHODAHOSPITALS....</td>\n",
       "      <td>1</td>\n",
       "      <td>1</td>\n",
       "      <td>0.515905</td>\n",
       "      <td>Discharge_Summary</td>\n",
       "      <td>Discharge_Summary</td>\n",
       "      <td>Discharge_Summary</td>\n",
       "    </tr>\n",
       "    <tr>\n",
       "      <th>36</th>\n",
       "      <td>190</td>\n",
       "      <td>/home/dkuwarbi/docI/images_forged/OC-22-1002-6...</td>\n",
       "      <td>1</td>\n",
       "      <td>Woo'syeydso4au}ysune AWorsjeydsoyaujysuns®oju)...</td>\n",
       "      <td>1</td>\n",
       "      <td>1</td>\n",
       "      <td>0.514247</td>\n",
       "      <td>Discharge_Summary</td>\n",
       "      <td>Discharge_Summary</td>\n",
       "      <td>Discharge_Summary</td>\n",
       "    </tr>\n",
       "    <tr>\n",
       "      <th>37</th>\n",
       "      <td>359</td>\n",
       "      <td>/home/dkuwarbi/docI/images_forged/OC-22-1002-6...</td>\n",
       "      <td>0</td>\n",
       "      <td>PLATINLIMHOSPITALSMULUNDCompaanignaGancern Gla...</td>\n",
       "      <td>1</td>\n",
       "      <td>0</td>\n",
       "      <td>0.513143</td>\n",
       "      <td>Discharge_Summary</td>\n",
       "      <td>Invoice</td>\n",
       "      <td>Discharge_Summary</td>\n",
       "    </tr>\n",
       "  </tbody>\n",
       "</table>\n",
       "</div>"
      ],
      "text/plain": [
       "    Unnamed: 0                                         Image_Path  labels  \\\n",
       "0          165  /home/dkuwarbi/docI/images_forged/OC-22-1002-6...       0   \n",
       "1           23  /home/dkuwarbi/docI/images_forged/210009077Pdi...       1   \n",
       "2          213  /home/dkuwarbi/docI/images_forged/OC-22-1002-6...       1   \n",
       "3          376  /home/dkuwarbi/docI/images_forged/OC-22-1002-6...       0   \n",
       "4          249  /home/dkuwarbi/docI/images_forged/OC-22-1002-6...       0   \n",
       "5           65  /home/dkuwarbi/docI/images_forged/210014237P f...       0   \n",
       "6          374  /home/dkuwarbi/docI/images_forged/OC-22-1002-6...       0   \n",
       "7          263  /home/dkuwarbi/docI/images_forged/OC-22-1002-6...       1   \n",
       "8          203  /home/dkuwarbi/docI/images_forged/OC-22-1002-6...       1   \n",
       "9          381  /home/dkuwarbi/docI/images_forged/OC-22-1501-6...       1   \n",
       "10         132  /home/dkuwarbi/docI/images_forged/OC-22-1002-6...       1   \n",
       "11         251  /home/dkuwarbi/docI/images_forged/OC-22-1002-6...       1   \n",
       "12         218  /home/dkuwarbi/docI/images_forged/OC-22-1002-6...       1   \n",
       "13          80  /home/dkuwarbi/docI/images_forged/210014237P f...       0   \n",
       "14         349  /home/dkuwarbi/docI/images_forged/OC-22-1002-6...       0   \n",
       "15         282  /home/dkuwarbi/docI/images_forged/OC-22-1002-6...       1   \n",
       "16         365  /home/dkuwarbi/docI/images_forged/OC-22-1002-6...       1   \n",
       "17          35  /home/dkuwarbi/docI/images_forged/210012294Pfi...       1   \n",
       "18           2  /home/dkuwarbi/docI/images_forged/210000083PSh...       1   \n",
       "19         280  /home/dkuwarbi/docI/images_forged/OC-22-1002-6...       0   \n",
       "20         182  /home/dkuwarbi/docI/images_forged/OC-22-1002-6...       1   \n",
       "21         156  /home/dkuwarbi/docI/images_forged/OC-22-1002-6...       1   \n",
       "22         138  /home/dkuwarbi/docI/images_forged/OC-22-1002-6...       0   \n",
       "23          78  /home/dkuwarbi/docI/images_forged/210014237P f...       0   \n",
       "24         212  /home/dkuwarbi/docI/images_forged/OC-22-1002-6...       1   \n",
       "25           3  /home/dkuwarbi/docI/images_forged/210001735PFe...       0   \n",
       "26         160  /home/dkuwarbi/docI/images_forged/OC-22-1002-6...       1   \n",
       "27         363  /home/dkuwarbi/docI/images_forged/OC-22-1002-6...       0   \n",
       "28         221  /home/dkuwarbi/docI/images_forged/OC-22-1002-6...       0   \n",
       "29         248  /home/dkuwarbi/docI/images_forged/OC-22-1002-6...       0   \n",
       "30         246  /home/dkuwarbi/docI/images_forged/OC-22-1002-6...       0   \n",
       "31         234  /home/dkuwarbi/docI/images_forged/OC-22-1002-6...       0   \n",
       "32         320  /home/dkuwarbi/docI/images_forged/OC-22-1002-6...       1   \n",
       "33          27  /home/dkuwarbi/docI/images_forged/210010314P f...       0   \n",
       "34         201  /home/dkuwarbi/docI/images_forged/OC-22-1002-6...       0   \n",
       "35         325  /home/dkuwarbi/docI/images_forged/OC-22-1002-6...       1   \n",
       "36         190  /home/dkuwarbi/docI/images_forged/OC-22-1002-6...       1   \n",
       "37         359  /home/dkuwarbi/docI/images_forged/OC-22-1002-6...       0   \n",
       "\n",
       "                                                 text  Prediction  \\\n",
       "0   lbTZasoHoT9ug= S55t > ON abegseees* abed axau ...           1   \n",
       "1   Boo Bages®SUPRIYA HOSPITAL#15/1, Ayyappaswamy ...           1   \n",
       "2   £450 ¢ a6egwyhoYy 4G.SES ANSAO WIGAN IO BNYN *...           1   \n",
       "3   C=} SANGHAMITHRAHOSPITALS DAdvances Grand Tota...           1   \n",
       "4   7)Yeerot CIMS,- rama nest wrwricims.or8 crgg F...           1   \n",
       "5   GST INVOICEUTKARSH MEDICAL STORE14-A (I1)-C BA...           1   \n",
       "6   «: [GHAMITHRAHos!- HOSPITALS(N~1002-5198266——I...           1   \n",
       "7   Patient Name ;Mr, NISHIKANT KOLTEHome Quaranti...           1   \n",
       "8   worsuys ann) — urorswnraue > — -ABeygo SERN AA...           1   \n",
       "9   96909 99886 '6S199 99906 : aIIgo/W)€9009¢ - nu...           1   \n",
       "10  008 008 8S 04 16+/ 009 009 8S 04 Lé+ : 1129 EW...           1   \n",
       "11  HCIMS @CARE INSTITUTE OF MEDICAL SCIENCESEarni...           1   \n",
       "12  of S; Son yyESP Ul SjUepUAYe juayed OF PEuleEj...           1   \n",
       "13  — 6ST INVOICEContinue Page No.... 1® @ UWFEARS...           1   \n",
       "14  CIMS Hospital Pvt. Ltd.Near Shukan Mail, Off S...           1   \n",
       "15  Phono : 080 --2685 1995 / 96a SUPRA HOSPITAL. ...           1   \n",
       "16  X-Ray :CT SCAN/MRI :Procedure & Operating Note...           1   \n",
       "17  SURGICAL & PRASUTI HOMEPark, Above Tulsi Resta...           1   \n",
       "18  She told at present there are 4 TB Patients in...           1   \n",
       "19  Sterling Hospital RajkoSs te vling A divison o...           1   \n",
       "20  LSISOTOHLVd(wed) ana ‘OWewneys eyboyisawey WOd...           1   \n",
       "21  (SUH 22) 49Sb Z9Sp OvOSANBVILNIOddY HOs“BOUBUI...           1   \n",
       "22  Zj0 | ebeg 8% ETIET J2 TZOZ-90-Z0 UO Ul'oo\"Yyo...           1   \n",
       "23  GST INVOICE@ UTKARSH revicaL STORE yy)14-A (II...           1   \n",
       "24  € 3027 abeg(sAep oF 403) 1’°(skepotsy)o - 1 -(...           1   \n",
       "25  C MacCoy Consultancy ies es: Krishna Nagar,Ser...           1   \n",
       "26  1 = Sieg BesJaals< — “7 ) er:Be pe IB [90 mers...           1   \n",
       "27  CIN 8511 0GI2004P1.0044667Krishna Shalby Hospi...           1   \n",
       "28  LL °ON obedOO'ebS00'0be00°0200°0S200'SSo0'0St0...           1   \n",
       "29  ®M4 CIMS CQ) HeeS BelesCARE INSTITUTE OF MEDIC...           1   \n",
       "30  «W1dSOH UNO OL LISIA LX3N HYNOA ONINNG ONOTW W...           1   \n",
       "31  z on'sie (NI YD Sb BLYOS SNIHSOLOVE PN] = NOLL...           1   \n",
       "32  Ph. 01493-51001+5/TVs Se SATYAM HOSPITAL « :cs...           1   \n",
       "33  LeLLLez'sosezez (z}S0) exemyos UeWRER YBs : Aq...           1   \n",
       "34  LOSZ06h-zOOT=NIoz | il EsISSO 1 on:o19¥8 MA Me...           1   \n",
       "35  aeOY Akshay Potphode / 285849YASHODAHOSPITALS....           1   \n",
       "36  Woo'syeydso4au}ysune AWorsjeydsoyaujysuns®oju)...           1   \n",
       "37  PLATINLIMHOSPITALSMULUNDCompaanignaGancern Gla...           1   \n",
       "\n",
       "    GroundTruth  Confidence                 pr                 gt  \\\n",
       "0             0    0.515210  Discharge_Summary            Invoice   \n",
       "1             1    0.517324  Discharge_Summary  Discharge_Summary   \n",
       "2             1    0.515960  Discharge_Summary  Discharge_Summary   \n",
       "3             0    0.513155  Discharge_Summary            Invoice   \n",
       "4             0    0.515532  Discharge_Summary            Invoice   \n",
       "5             0    0.514157  Discharge_Summary            Invoice   \n",
       "6             0    0.513277  Discharge_Summary            Invoice   \n",
       "7             1    0.515278  Discharge_Summary  Discharge_Summary   \n",
       "8             1    0.514678  Discharge_Summary  Discharge_Summary   \n",
       "9             1    0.516727  Discharge_Summary  Discharge_Summary   \n",
       "10            1    0.514389  Discharge_Summary  Discharge_Summary   \n",
       "11            1    0.515975  Discharge_Summary  Discharge_Summary   \n",
       "12            1    0.517035  Discharge_Summary  Discharge_Summary   \n",
       "13            0    0.514804  Discharge_Summary            Invoice   \n",
       "14            0    0.512665  Discharge_Summary            Invoice   \n",
       "15            1    0.517410  Discharge_Summary  Discharge_Summary   \n",
       "16            1    0.514856  Discharge_Summary  Discharge_Summary   \n",
       "17            1    0.515092  Discharge_Summary  Discharge_Summary   \n",
       "18            1    0.514702  Discharge_Summary  Discharge_Summary   \n",
       "19            0    0.514261  Discharge_Summary            Invoice   \n",
       "20            1    0.515456  Discharge_Summary  Discharge_Summary   \n",
       "21            1    0.515234  Discharge_Summary  Discharge_Summary   \n",
       "22            0    0.513757  Discharge_Summary            Invoice   \n",
       "23            0    0.512974  Discharge_Summary            Invoice   \n",
       "24            1    0.515892  Discharge_Summary  Discharge_Summary   \n",
       "25            0    0.513028  Discharge_Summary            Invoice   \n",
       "26            1    0.514898  Discharge_Summary  Discharge_Summary   \n",
       "27            0    0.513592  Discharge_Summary            Invoice   \n",
       "28            0    0.513649  Discharge_Summary            Invoice   \n",
       "29            0    0.514776  Discharge_Summary            Invoice   \n",
       "30            0    0.515329  Discharge_Summary            Invoice   \n",
       "31            0    0.513413  Discharge_Summary            Invoice   \n",
       "32            1    0.517304  Discharge_Summary  Discharge_Summary   \n",
       "33            0    0.512177  Discharge_Summary            Invoice   \n",
       "34            0    0.514479  Discharge_Summary            Invoice   \n",
       "35            1    0.515905  Discharge_Summary  Discharge_Summary   \n",
       "36            1    0.514247  Discharge_Summary  Discharge_Summary   \n",
       "37            0    0.513143  Discharge_Summary            Invoice   \n",
       "\n",
       "           PredAnswer  \n",
       "0   Discharge_Summary  \n",
       "1   Discharge_Summary  \n",
       "2   Discharge_Summary  \n",
       "3   Discharge_Summary  \n",
       "4   Discharge_Summary  \n",
       "5   Discharge_Summary  \n",
       "6   Discharge_Summary  \n",
       "7   Discharge_Summary  \n",
       "8   Discharge_Summary  \n",
       "9   Discharge_Summary  \n",
       "10  Discharge_Summary  \n",
       "11  Discharge_Summary  \n",
       "12  Discharge_Summary  \n",
       "13  Discharge_Summary  \n",
       "14  Discharge_Summary  \n",
       "15  Discharge_Summary  \n",
       "16  Discharge_Summary  \n",
       "17  Discharge_Summary  \n",
       "18  Discharge_Summary  \n",
       "19  Discharge_Summary  \n",
       "20  Discharge_Summary  \n",
       "21  Discharge_Summary  \n",
       "22  Discharge_Summary  \n",
       "23  Discharge_Summary  \n",
       "24  Discharge_Summary  \n",
       "25  Discharge_Summary  \n",
       "26  Discharge_Summary  \n",
       "27  Discharge_Summary  \n",
       "28  Discharge_Summary  \n",
       "29  Discharge_Summary  \n",
       "30  Discharge_Summary  \n",
       "31  Discharge_Summary  \n",
       "32  Discharge_Summary  \n",
       "33  Discharge_Summary  \n",
       "34  Discharge_Summary  \n",
       "35  Discharge_Summary  \n",
       "36  Discharge_Summary  \n",
       "37  Discharge_Summary  "
      ]
     },
     "execution_count": 84,
     "metadata": {},
     "output_type": "execute_result"
    }
   ],
   "source": [
    "test_results_df"
   ]
  },
  {
   "cell_type": "code",
   "execution_count": 87,
   "id": "04c97957-443b-4832-bf26-2fa3234bca90",
   "metadata": {
    "tags": []
   },
   "outputs": [],
   "source": [
    "from sklearn.metrics import classification_report,confusion_matrix"
   ]
  },
  {
   "cell_type": "code",
   "execution_count": 88,
   "id": "d4f4ccce-dfa5-4b13-822a-9da3ed490007",
   "metadata": {
    "tags": []
   },
   "outputs": [
    {
     "name": "stdout",
     "output_type": "stream",
     "text": [
      "[[19 19]\n",
      " [ 0  0]]\n"
     ]
    }
   ],
   "source": [
    "print(confusion_matrix(test_results_df['pr'],test_results_df['gt']))"
   ]
  },
  {
   "cell_type": "code",
   "execution_count": null,
   "id": "0e664566-211a-40d6-975d-27e439968d16",
   "metadata": {},
   "outputs": [],
   "source": []
  }
 ],
 "metadata": {
  "kernelspec": {
   "display_name": "LATest",
   "language": "python",
   "name": "latest"
  },
  "language_info": {
   "codemirror_mode": {
    "name": "ipython",
    "version": 3
   },
   "file_extension": ".py",
   "mimetype": "text/x-python",
   "name": "python",
   "nbconvert_exporter": "python",
   "pygments_lexer": "ipython3",
   "version": "3.8.10"
  }
 },
 "nbformat": 4,
 "nbformat_minor": 5
}
